{
 "cells": [
  {
   "cell_type": "markdown",
   "metadata": {},
   "source": [
    "## Data Preparation: Calculate regional LV strain from cine CMR\n",
    "\n",
    "You should prepare two things before running this step. Please refer to the `example_data` folder for guidance:\n",
    "\n",
    "1. **NIfTI images** of cine CMR and **corresponding segmentation**\n",
    "   - Please re-organize your data so that each time frame (3D volume) is a separate nii file. \n",
    "   - The segmentations were done by our [cineCMR segmentation foundation model](https://github.com/zhennongchen/cineCMR_SAM), or you can prepare by your own.\n",
    "   - make sure your image/segmentation numpy array start from ***basal slice***.\n",
    "\n",
    "2. **A patient list** that enumerates all your cases.  \n",
    "   - To understand the expected format, please refer to the file:  \n",
    "     `example_data/Patient_lists/patient_list.xlsx`.\n",
    "\n",
    "3. **A clinical data list** that record the clinical data (from electronic health record).  \n",
    "   - only need it if you want to add clinical data into model input in step 2.\n",
    "\n",
    "4. **Download Deepstrain weights** from [source](https://dataverse.harvard.edu/dataset.xhtml?persistentId=doi:10.7910/DVN/XB6PEZ ) to your local\n",
    "   - download carmen_Jan2021.h5 and carson_Jan2021.h5\n",
    "\n",
    "\n",
    "---\n",
    "\n",
    "## Get regional LV strain from cine CMR\n",
    "\n",
    "In this script we use published method [DeepStrain](https://github.com/moralesq/DeepStrain) to generate regional LV strain from cine CMR short-axis (SAX) views. we use the first time frame (end-diastole) as template.\n",
    "\n",
    "---\n",
    "\n",
    "### Docker environment\n",
    "Please use `docker/docker_tensorflow`, it will build a tensorflow docker\n"
   ]
  },
  {
   "cell_type": "code",
   "execution_count": 2,
   "metadata": {},
   "outputs": [],
   "source": [
    "import sys\n",
    "sys.path.append(\"../\")\n",
    "import os\n",
    "import numpy as np\n",
    "import nibabel as nb\n",
    "import pandas as pd\n",
    "import matplotlib.pylab as plt\n",
    "from data.nifti_dataset import resample_nifti\n",
    "from data.base_dataset import _roll2center_crop\n",
    "from scipy.ndimage.measurements import center_of_mass\n",
    "from skimage.measure import label, regionprops\n",
    "\n",
    "from tensorflow.keras.optimizers import Adam\n",
    "from models import deep_strain_model\n",
    "from utils import myocardial_strain_zc\n",
    "from scipy.ndimage import gaussian_filter\n",
    "\n",
    "import HFpEF_CMR_GraphStrain.functions_collection as ff\n",
    "\n",
    "\n",
    "main_path = '/mnt/camca_NAS/Deepstrain'"
   ]
  },
  {
   "cell_type": "markdown",
   "metadata": {},
   "source": [
    "### Section 1: get motion vector field using DeepStrain\n",
    "\n",
    "please download weights from https://dataverse.harvard.edu/dataset.xhtml?persistentId=doi:10.7910/DVN/XB6PEZ "
   ]
  },
  {
   "cell_type": "code",
   "execution_count": 4,
   "metadata": {},
   "outputs": [],
   "source": [
    "# define model\n",
    "class Options():\n",
    "    \n",
    "    def __init__(self):\n",
    "        \n",
    "        self.datadir = os.path.join(main_path,'data/')\n",
    "        self.isTrain = False\n",
    "        self.volume_shape = (128,128,16,1) # in network the input shape is [None, 128, 128, 16,2]\n",
    "        self.pretrained_models_netS  = os.path.join(main_path,'models/trained/carson_Jan2021.h5')  # change to your own path\n",
    "        self.pretrained_models_netME = os.path.join(main_path,'models/trained/carmen_Jan2021.h5')  # change to your own path\n",
    "\n",
    "        \n",
    "opt = Options()\n",
    "\n",
    "model = deep_strain_model.DeepStrain(Adam, opt=opt)\n",
    "netME = model.get_netME()"
   ]
  },
  {
   "cell_type": "code",
   "execution_count": 6,
   "metadata": {},
   "outputs": [
    {
     "name": "stdout",
     "output_type": "stream",
     "text": [
      "(1, 4)\n"
     ]
    }
   ],
   "source": [
    "# define the patient list \n",
    "patient_list = pd.read_excel(os.path.join(main_path, 'example_data/Patient_list/patient_list.xlsx'))\n",
    "patient_list = patient_list[patient_list['include?'] == 'yes']\n",
    "print(patient_list.shape)"
   ]
  },
  {
   "cell_type": "code",
   "execution_count": 9,
   "metadata": {},
   "outputs": [
    {
     "name": "stdout",
     "output_type": "stream",
     "text": [
      "ID_0287\n",
      "current time frame pairs:  0 0\n"
     ]
    },
    {
     "name": "stderr",
     "output_type": "stream",
     "text": [
      "2025-06-30 16:11:42.688999: I tensorflow/stream_executor/platform/default/dso_loader.cc:49] Successfully opened dynamic library libcudnn.so.8\n",
      "2025-06-30 16:11:49.660920: I tensorflow/stream_executor/platform/default/dso_loader.cc:49] Successfully opened dynamic library libcublas.so.11\n",
      "2025-06-30 16:11:51.213079: I tensorflow/stream_executor/platform/default/dso_loader.cc:49] Successfully opened dynamic library libcublasLt.so.11\n",
      "2025-06-30 16:11:52.291738: I tensorflow/stream_executor/cuda/cuda_blas.cc:1838] TensorFloat-32 will be used for the matrix multiplication. This will only be logged once.\n"
     ]
    },
    {
     "name": "stdout",
     "output_type": "stream",
     "text": [
      "current time frame pairs:  0 1\n",
      "current time frame pairs:  0 2\n",
      "current time frame pairs:  0 3\n",
      "current time frame pairs:  0 4\n",
      "current time frame pairs:  0 5\n",
      "current time frame pairs:  0 6\n",
      "current time frame pairs:  0 7\n",
      "current time frame pairs:  0 8\n",
      "current time frame pairs:  0 9\n",
      "current time frame pairs:  0 10\n",
      "current time frame pairs:  0 11\n",
      "current time frame pairs:  0 12\n",
      "current time frame pairs:  0 13\n",
      "current time frame pairs:  0 14\n"
     ]
    }
   ],
   "source": [
    "# get motion vector field from CMR\n",
    "for i in range(0, patient_list.shape[0]):\n",
    "    patient_num = patient_list['OurID'].iloc[i]\n",
    "    patient_id = ff.XX_to_ID_00XX(patient_num)\n",
    "\n",
    "    print(patient_id)\n",
    "\n",
    "    # save folder\n",
    "    save_folder = os.path.join(main_path, 'example_data/results/MVF', patient_id)\n",
    "    ff.make_folder([os.path.join(main_path,'example_data/results'), os.path.join(main_path,'example_data/results/MVF'), save_folder])\n",
    "\n",
    "    # define data folders\n",
    "    patient_img_folder = os.path.join(main_path,'example_data/raw_nii_images',patient_id, 'img') \n",
    "    patient_seg_folder = os.path.join(main_path,'example_data/raw_nii_images',patient_id, 'seg')\n",
    "\n",
    "    # define template tf and target tf\n",
    "    template_tf = 0\n",
    "\n",
    "   \n",
    "    for target_tf in range(0,15):\n",
    "        print('current time frame pairs: ', template_tf, target_tf)\n",
    "\n",
    "        # load data\n",
    "        V_nifti_1 = nb.load(os.path.join(patient_img_folder, 'img_tf' + str(template_tf) + '.nii.gz'))\n",
    "        V_nifti_2 = nb.load(os.path.join(patient_img_folder, 'img_tf' + str(target_tf) + '.nii.gz'))     \n",
    "\n",
    "        M_nifti_1 = nb.load(os.path.join(patient_seg_folder, 'seg_tf' + str(template_tf) + '.nii.gz'))\n",
    "        M_nifti_2 = nb.load(os.path.join(patient_seg_folder ,'seg_Tf' + str(target_tf) + '.nii.gz'))\n",
    "\n",
    "\n",
    "        ##########################\n",
    "        # # preprocess our data and save it for future use!\n",
    "        V_nifti = nb.funcs.concat_images((V_nifti_1, V_nifti_2))\n",
    "        M_nifti = nb.funcs.concat_images((M_nifti_1, M_nifti_2))\n",
    "\n",
    "        # data was trained with:\n",
    "        #  in-plane resolution of 1.25 mm x 1.25 mm\n",
    "        #  number of slices = 16\n",
    "        #  variable slice thickness since we specify number of slices\n",
    "        V_nifti = resample_nifti(V_nifti, order=1, in_plane_resolution_mm=1.25, number_of_slices=16)\n",
    "        M_nifti = resample_nifti(M_nifti, order=0, in_plane_resolution_mm=1.25, number_of_slices=16)\n",
    "        \n",
    "\n",
    "        # calculate center of mass using the first frame as reference. This is needed for cropping to 128x128\n",
    "        center = center_of_mass(M_nifti.get_fdata()[:,:,:,0]==2) \n",
    "        V = _roll2center_crop(x=V_nifti.get_fdata(), center=center)\n",
    "        M = _roll2center_crop(x=M_nifti.get_fdata(), center=center)\n",
    "\n",
    "        # save preprocessed image\n",
    "        preprocessed_input_folder = os.path.join(main_path, 'example_data/results/preprocessed_inputs', patient_id)\n",
    "        ff.make_folder([preprocessed_input_folder, os.path.join(preprocessed_input_folder, 'img'), os.path.join(preprocessed_input_folder, 'seg'), os.path.join(preprocessed_input_folder, 'img_cropped'), os.path.join(preprocessed_input_folder, 'seg_cropped')])\n",
    "        nb.save(nb.Nifti1Image(V_nifti.get_fdata()[:,:,:,1], affine=V_nifti.affine, header=V_nifti.header), os.path.join(preprocessed_input_folder, 'img/img_tf' + str(target_tf) + '.nii.gz'))\n",
    "        nb.save(nb.Nifti1Image(M_nifti.get_fdata()[:,:,:,1], affine=M_nifti.affine, header=M_nifti.header), os.path.join(preprocessed_input_folder, 'seg/seg_tf' + str(target_tf) + '.nii.gz'))\n",
    "        nb.save(nb.Nifti1Image(V[:,:,:,1], affine=V_nifti.affine, header=V_nifti.header), os.path.join(preprocessed_input_folder, 'img_cropped/img_tf' + str(target_tf) + '.nii.gz'))\n",
    "        nb.save(nb.Nifti1Image(M[:,:,:,1], affine=M_nifti.affine, header=M_nifti.header), os.path.join(preprocessed_input_folder, 'seg_cropped/seg_tf' + str(target_tf) + '.nii.gz'))\n",
    "\n",
    "        ##########################\n",
    "        # # Get motion vector field\n",
    "        V = ff.normalize_image(V)\n",
    "        nx, ny, nz, nt = V.shape\n",
    "        V_0 =  np.repeat(V[:,:,:,:1], nt-1, axis=-1)\n",
    "        V_t =  V[:,:,:,1:]\n",
    "\n",
    "        V_0 = np.transpose(V_0, (3,0,1,2))\n",
    "        V_t = np.transpose(V_t, (3,0,1,2))\n",
    "\n",
    "        # predict motion vector\n",
    "        y_t = netME([V_0, V_t]).numpy()\n",
    "        y_t = gaussian_filter(y_t, sigma=(0,2,2,0,0))\n",
    "\n",
    "        # save\n",
    "        a = nb.Nifti1Image(y_t[0,:,:,:,:] , affine=V_nifti.affine, header=V_nifti.header)\n",
    "        filename =  'mvf_template' + str(template_tf) + '_target'+ str(target_tf) + '.nii.gz'\n",
    "        nb.save(a, os.path.join(save_folder, filename))"
   ]
  },
  {
   "cell_type": "markdown",
   "metadata": {},
   "source": [
    "### Section 2: Manully annotate RV insertion point for AHA segments\n",
    "the regional LV strain is reported per-AHA-segment. Therefore we need to define the insertion point so that we can rotate the image properly.\n",
    "\n",
    "you can do it using your own automatic algorithm, or do it one by one manually (it won't take much time)"
   ]
  },
  {
   "cell_type": "code",
   "execution_count": 2,
   "metadata": {},
   "outputs": [
    {
     "name": "stdout",
     "output_type": "stream",
     "text": [
      "ID_0287\n"
     ]
    }
   ],
   "source": [
    "# define a patient\n",
    "patient_list = pd.read_excel(os.path.join(main_path, 'example_data/Patient_list/patient_list.xlsx'))\n",
    "patient_list = patient_list[patient_list['include?'] == 'yes']\n",
    "patient_index = 0\n",
    "\n",
    "patient_id_num = patient_list['OurID'].iloc[patient_index]\n",
    "patient_id = ff.XX_to_ID_00XX(patient_id_num)\n",
    "print(patient_id)"
   ]
  },
  {
   "cell_type": "code",
   "execution_count": 12,
   "metadata": {},
   "outputs": [
    {
     "name": "stdout",
     "output_type": "stream",
     "text": [
      "mid_slice:  8\n",
      "already defined\n",
      "insertion_p1:  [40 65]  insertion_p2:  [65 43]\n"
     ]
    },
    {
     "data": {
      "text/plain": [
       "<matplotlib.image.AxesImage at 0x778b8d11afd0>"
      ]
     },
     "execution_count": 12,
     "metadata": {},
     "output_type": "execute_result"
    },
    {
     "data": {
      "image/png": "[encoded data removed]",
      "text/plain": [
       "<Figure size 800x400 with 2 Axes>"
      ]
     },
     "metadata": {},
     "output_type": "display_data"
    }
   ],
   "source": [
    "patient_img_folder = os.path.join(main_path,'example_data/results/preprocessed_inputs',patient_id, 'img_cropped')\n",
    "patient_seg_folder = os.path.join(main_path,'example_data/results/preprocessed_inputs',patient_id, 'seg_cropped')\n",
    "img_ed = nb.load(os.path.join(patient_img_folder, 'img_tf0.nii.gz')).get_fdata()\n",
    "mask_ed = nb.load(os.path.join(patient_seg_folder, 'seg_tf0.nii.gz')).get_fdata()\n",
    "\n",
    "y_t = nb.load(os.path.join(main_path, 'results/MVF', patient_id, 'mvf_template0_target1.nii.gz')).get_fdata()\n",
    "y_t = y_t[None,...]\n",
    "\n",
    "strain = myocardial_strain_zc.MyocardialStrain(mask=mask_ed, flow=y_t[0,:,:,:,:])\n",
    "\n",
    "save_folder = os.path.join(main_path, 'example_data/results/strain/', patient_id)\n",
    "ff.make_folder([os.path.join(main_path,'example_data/results'), os.path.join(main_path,'example_data/results/strain'), save_folder])\n",
    "\n",
    "# define the effective slices\n",
    "effective_slices_list = []\n",
    "for i in range(0,15):\n",
    "    patient_seg_folder = os.path.join(main_path,'example_data/results/preprocessed_inputs',patient_id, 'seg')\n",
    "    patient_seg = nb.load(os.path.join(patient_seg_folder, 'seg_tf' + str(i) + '.nii.gz')).get_fdata()\n",
    "    effective_slice = []\n",
    "    for j in range(patient_seg.shape[2]):\n",
    "        if np.sum(patient_seg[:,:,j]==2)>0: \n",
    "            effective_slice.append(j)\n",
    "    effective_slices_list.append(effective_slice)\n",
    "\n",
    "sets = [set(lst) for lst in effective_slices_list]\n",
    "intersection = set.intersection(*sets)\n",
    "effective_slices = list(intersection)\n",
    "\n",
    "# define mid slice\n",
    "mid_slice = effective_slices[len(effective_slices)//2]\n",
    "print('mid_slice: ', mid_slice)\n",
    "\n",
    "# define the RV insertion point\n",
    "plt.figure(figsize=(8,4))\n",
    "plt.subplot(121); plt.imshow(strain.mask[:,:,mid_slice], cmap='gray')\n",
    "if os.path.isfile(os.path.join(save_folder, 'insertion_points.npy')):\n",
    "    print('already defined')\n",
    "    insertion_points = np.load(os.path.join(save_folder, 'insertion_points.npy'))\n",
    "    insertion_p1 = insertion_points[0,:]\n",
    "    insertion_p2 = insertion_points[1,:]\n",
    "    print('insertion_p1: ', insertion_p1, ' insertion_p2: ', insertion_p2)\n",
    "else:\n",
    "    print('no there should be pre-defined insertion points!, please define them manully by changing the code below. you will see the points in the figure')\n",
    "    # from the figure, we define the RV insertion points\n",
    "    insertion_p1 = [40,65]\n",
    "    insertion_p2 = [65,43]\n",
    "    # make insertion_p1 and p2 as a 2x2 numpy array\n",
    "    insertion_points = np.vstack((np.asarray(insertion_p1), np.asarray(insertion_p2)))\n",
    "    np.save(os.path.join(save_folder, 'insertion_points.npy'), insertion_points)\n",
    "\n",
    "# get the rotation angle ready\n",
    "phi_angle   , cx_lv, cy_lv, cx_rv, cy_rv  = myocardial_strain_zc._get_lv2rv_angle_using_insertion_points(strain.mask, insertion_p1, insertion_p2)\n",
    "\n",
    "# plot\n",
    "ii = np.copy(img_ed[:,:,mid_slice])\n",
    "ii[insertion_p1[0], insertion_p1[1]] = np.max(ii); ii[insertion_p2[0], insertion_p2[1]] = np.max(ii)\n",
    "ii[int(cx_lv), int(cy_lv)] = np.max(ii); ii[int(cx_rv), int(cy_rv)] = np.max(ii)\n",
    "plt.subplot(122); plt.imshow(ii, cmap='gray')\n"
   ]
  },
  {
   "cell_type": "markdown",
   "metadata": {},
   "source": [
    "### Section 3: Get global and regional LV strain\n",
    "make sure you have motion vector fields and RV insertion points ready.\n",
    "\n",
    "The product is Ecc_aha/Err_aha which is a 17-length vector which includes strain for 16 segments + strain for apex (always set to 0, not used)\n",
    "\n",
    "The results including global strains and regional strains will be saved as a numpy file for each time frame."
   ]
  },
  {
   "cell_type": "code",
   "execution_count": 13,
   "metadata": {},
   "outputs": [],
   "source": [
    "patient_list = pd.read_excel(os.path.join(main_path, 'example_data/Patient_list/patient_list.xlsx'))\n",
    "patient_list = patient_list[patient_list['include?'] == 'yes']"
   ]
  },
  {
   "cell_type": "code",
   "execution_count": 18,
   "metadata": {},
   "outputs": [],
   "source": [
    "save_folder = os.path.join(main_path, 'example_data/results/strain/')\n",
    "\n",
    "for i in range(patient_list.shape[0]):\n",
    "    patient_id_num = patient_list['OurID'].iloc[i]\n",
    "    patient_id = ff.XX_to_ID_00XX(patient_id_num)\n",
    " \n",
    "    print(i,patient_id)\n",
    "    patient_save_folder = os.path.join(save_folder, patient_id)\n",
    "\n",
    "    # define the effective slices\n",
    "    effective_slices_list = []\n",
    "    for i in range(0,15):\n",
    "        patient_seg_folder = os.path.join(main_path,'example_data/results/preprocessed_inputs',patient_id, 'seg')\n",
    "        patient_seg = nb.load(os.path.join(patient_seg_folder, 'seg_tf' + str(i) + '.nii.gz')).get_fdata()\n",
    "        effective_slice = []\n",
    "        for j in range(patient_seg.shape[2]):\n",
    "            if np.sum(patient_seg[:,:,j]==2)>0:\n",
    "                effective_slice.append(j)\n",
    "        effective_slices_list.append(effective_slice)\n",
    "\n",
    "    sets = [set(lst) for lst in effective_slices_list]\n",
    "    intersection = set.intersection(*sets)\n",
    "    effective_slices = list(intersection)\n",
    "\n",
    "    # get the layer info\n",
    "    slices_per_layer = len(effective_slices)//3\n",
    "    mod = len(effective_slices)%3\n",
    "    if mod == 1 or mod == 2:\n",
    "        mod = 1\n",
    "\n",
    "    apex_layer = effective_slices[len(effective_slices) - slices_per_layer : len(effective_slices)]\n",
    "    mid_layer = effective_slices[len(effective_slices) - slices_per_layer * 2 -mod : len(effective_slices) - slices_per_layer]\n",
    "    base_layer = effective_slices[0: len(effective_slices) - slices_per_layer * 2 -mod]\n",
    "    mid_slice = effective_slices[len(effective_slices)//2]\n",
    "\n",
    "    template_tf = 0\n",
    "\n",
    "    for target_tf in range(0,15):\n",
    "        tf1 = template_tf\n",
    "        tf2 = target_tf\n",
    "\n",
    "        patient_save_folder_timeframe = os.path.join(patient_save_folder, 'tf_' + str(tf2))\n",
    "        ff.make_folder([patient_save_folder_timeframe])\n",
    "\n",
    "        # load img and seg\n",
    "        patient_img_folder = os.path.join(main_path,'example_data/results/preprocessed_inputs',patient_id, 'img_cropped')\n",
    "        patient_seg_folder = os.path.join(main_path,'example_data/results/preprocessed_inputs',patient_id, 'seg_cropped')\n",
    "\n",
    "        V_nifti_1 = nb.load(os.path.join(patient_img_folder, 'img_tf' + str(tf1) + '.nii.gz'))\n",
    "        V_nifti_2 = nb.load(os.path.join(patient_img_folder, 'img_tf' + str(tf2) + '.nii.gz'))\n",
    "\n",
    "        M_nifti_1 = nb.load(os.path.join(patient_seg_folder, 'seg_tf' + str(tf1) + '.nii.gz'))\n",
    "\n",
    "        # get motion vector field\n",
    "        y_t = nb.load(os.path.join(main_path, 'example_data/results/MVF', patient_id, 'mvf_template'+str(tf1) + '_target'+str(tf2)+'.nii.gz')).get_fdata()\n",
    "        y_t = y_t[None,...]\n",
    "\n",
    "        mask_tf1 = M_nifti_1.get_fdata()\n",
    "\n",
    "        # # calculate global strain\n",
    "        strain = myocardial_strain_zc.MyocardialStrain(mask=mask_tf1, flow=y_t[0,:,:,:,:])\n",
    "        strain.calculate_strain(lv_label=2)\n",
    "\n",
    "        global_radial_strain = strain.Err[strain.mask_rot==2].mean()\n",
    "        global_circumferential_strain = strain.Ecc[strain.mask_rot==2].mean()\n",
    "\n",
    "        ## rotate the image\n",
    "        if os.path.isfile(os.path.join(patient_save_folder, 'insertion_points.npy')):\n",
    "            # print('use saved')\n",
    "            insertion_points = np.load(os.path.join(patient_save_folder, 'insertion_points.npy'))\n",
    "            insertion_p1 = insertion_points[0,:]\n",
    "            insertion_p2 = insertion_points[1,:]\n",
    "        else:\n",
    "            assert False, 'no there should be pre-defined insertion points!'\n",
    "\n",
    "        # get the rotation angle ready\n",
    "        img_ed = nb.load(os.path.join(patient_img_folder, 'img_tf' + str(tf1) + '.nii.gz')).get_fdata()\n",
    "        phi_angle   , cx_lv, cy_lv, cx_rv, cy_rv  = myocardial_strain_zc._get_lv2rv_angle_using_insertion_points(strain.mask, insertion_p1, insertion_p2)\n",
    "        rotate_f = myocardial_strain_zc.Rotate_data(strain.Err, strain.Ecc, strain.mask,img_ed, insertion_p1, insertion_p2 )\n",
    "        Err_rot, Ecc_rot, mask_rot, img_rot= rotate_f.rotate_orientation(for_visualization=False)\n",
    "\n",
    "        # only keep the effective slices\n",
    "        Err_rot = Err_rot[:,:,effective_slices]\n",
    "        Ecc_rot = Ecc_rot[:,:,effective_slices]\n",
    "        mask_rot = mask_rot[:,:,effective_slices]\n",
    "        img_rot = img_rot[:,:,effective_slices]\n",
    "\n",
    "        # polar strain\n",
    "        polar = myocardial_strain_zc.PolarMap(Err_rot, Ecc_rot, mask_rot)\n",
    "        polar_strain_result = polar.project_to_aha_polar_map()\n",
    "        # Ecc_aha/Err_aha: first element is the mean for all AHA segments, followed by 16 segments + 1 apex (Set to 0)\n",
    "        Ecc_polar, Ecc_aha = polar.construct_AHA_map(polar_strain_result['V_ecc'], start_slice_name = 'base', start = 20, stop = 80) \n",
    "        Err_polar, Err_aha = polar.construct_AHA_map(polar_strain_result['V_err'], start_slice_name = 'base', start = 20, stop = 80)\n",
    "    \n",
    "\n",
    "        # save the results\n",
    "        strain_info = [strain, global_radial_strain, global_circumferential_strain, Err_rot, Ecc_rot, mask_rot, Ecc_polar, Err_polar, Ecc_aha[1:], Err_aha[1:]]\n",
    "        slice_info = [effective_slices, 'base', base_layer, mid_layer, apex_layer]\n",
    "\n",
    "        # save all above\n",
    "        np.save(os.path.join(patient_save_folder_timeframe,'strain_info.npy'), strain_info,allow_pickle=True)\n",
    "        np.save(os.path.join(patient_save_folder,'slice_info.npy'), slice_info)"
   ]
  }
 ],
 "metadata": {
  "kernelspec": {
   "display_name": "Python 3 (ipykernel)",
   "language": "python",
   "name": "python3"
  },
  "language_info": {
   "codemirror_mode": {
    "name": "ipython",
    "version": 3
   },
   "file_extension": ".py",
   "mimetype": "text/x-python",
   "name": "python",
   "nbconvert_exporter": "python",
   "pygments_lexer": "ipython3",
   "version": "3.8.10"
  }
 },
 "nbformat": 4,
 "nbformat_minor": 2
}
